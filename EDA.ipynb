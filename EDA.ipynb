{
 "cells": [
  {
   "cell_type": "code",
   "execution_count": 5,
   "id": "c95b8292",
   "metadata": {},
   "outputs": [],
   "source": [
    "import pandas as pd"
   ]
  },
  {
   "cell_type": "code",
   "execution_count": 22,
   "id": "f222a73b",
   "metadata": {},
   "outputs": [
    {
     "name": "stdout",
     "output_type": "stream",
     "text": [
      "Database created/opened successfully!\n"
     ]
    }
   ],
   "source": [
    "import sqlite3\n",
    "\n",
    "# Create a new SQLite database (or connect to an existing one)\n",
    "conn = sqlite3.connect(\"Digital_Marketing.sqlite\")\n",
    "\n",
    "print(\"Database created/opened successfully!\")\n",
    "\n",
    "conn.close()\n"
   ]
  },
  {
   "cell_type": "code",
   "execution_count": 26,
   "id": "8a19fa21",
   "metadata": {},
   "outputs": [
    {
     "name": "stdout",
     "output_type": "stream",
     "text": [
      "Users table created successfully!\n"
     ]
    }
   ],
   "source": [
    "import sqlite3\n",
    "\n",
    "# 1. Connect to database (creates file if it doesn’t exist)\n",
    "conn = sqlite3.connect(\"Digital_Marketing.sqlite\")\n",
    "\n",
    "# 2. Create a cursor\n",
    "cur = conn.cursor()\n",
    "\n",
    "# 3. Write CREATE TABLE statement\n",
    "cur.execute(\"\"\"\n",
    "CREATE TABLE IF NOT EXISTS raw_users (\n",
    "    user_id TEXT PRIMARY KEY,\n",
    "    user_gender TEXT,\n",
    "    user_age INTEGER,\n",
    "    age_group TEXT,\n",
    "    country TEXT,\n",
    "    location TEXT,\n",
    "    interests TEXT,\n",
    "    _ingested_at TIMESTAMP DEFAULT CURRENT_TIMESTAMP\n",
    ");\n",
    "            \"\"\")\n",
    "\n",
    "# 4. Commit & close\n",
    "conn.commit()\n",
    "conn.close()\n",
    "\n",
    "print(\"Users table created successfully!\")\n"
   ]
  },
  {
   "cell_type": "code",
   "execution_count": 27,
   "id": "5d8f3104",
   "metadata": {},
   "outputs": [
    {
     "name": "stdout",
     "output_type": "stream",
     "text": [
      "Users table created successfully!\n"
     ]
    }
   ],
   "source": [
    "# 1. Connect to database (creates file if it doesn’t exist)\n",
    "conn = sqlite3.connect(\"Digital_Marketing.sqlite\")\n",
    "\n",
    "# 2. Create a cursor\n",
    "cur = conn.cursor()\n",
    "\n",
    "# 3. Write CREATE TABLE statement\n",
    "cur.execute(\"\"\"\n",
    "CREATE TABLE raw_campaigns (\n",
    "  campaign_id INTEGER PRIMARY KEY,\n",
    "  name TEXT,\n",
    "  start_date TEXT,\n",
    "  end_date TEXT,\n",
    "  duration_days INTEGER,\n",
    "  total_budget REAL,\n",
    "  _ingested_at TEXT DEFAULT CURRENT_TIMESTAMP\n",
    ");\n",
    "            \"\"\")\n",
    "\n",
    "# 4. Commit & close\n",
    "conn.commit()\n",
    "conn.close()\n",
    "\n",
    "print(\"Users table created successfully!\")\n"
   ]
  },
  {
   "cell_type": "code",
   "execution_count": 28,
   "id": "6b45a607",
   "metadata": {},
   "outputs": [
    {
     "name": "stdout",
     "output_type": "stream",
     "text": [
      "Users table created successfully!\n"
     ]
    }
   ],
   "source": [
    "# 1. Connect to database (creates file if it doesn’t exist)\n",
    "conn = sqlite3.connect(\"Digital_Marketing.sqlite\")\n",
    "\n",
    "# 2. Create a cursor\n",
    "cur = conn.cursor()\n",
    "\n",
    "# 3. Write CREATE TABLE statement\n",
    "cur.execute(\"\"\"\n",
    "CREATE TABLE raw_ads (\n",
    "  ad_id INTEGER PRIMARY KEY,\n",
    "  campaign_id INTEGER,\n",
    "  ad_platform TEXT,\n",
    "  ad_type TEXT,\n",
    "  target_gender TEXT,\n",
    "  target_age_group TEXT,\n",
    "  target_interests TEXT,\n",
    "  _ingested_at TEXT DEFAULT CURRENT_TIMESTAMP\n",
    ");\n",
    "            \"\"\")\n",
    "\n",
    "# 4. Commit & close\n",
    "conn.commit()\n",
    "conn.close()\n",
    "\n",
    "print(\"Users table created successfully!\")\n"
   ]
  },
  {
   "cell_type": "code",
   "execution_count": 31,
   "id": "f5cb73de",
   "metadata": {},
   "outputs": [
    {
     "name": "stdout",
     "output_type": "stream",
     "text": [
      "Users table created successfully!\n"
     ]
    }
   ],
   "source": [
    "# 1. Connect to database (creates file if it doesn’t exist)\n",
    "conn = sqlite3.connect(\"Digital_Marketing.sqlite\")\n",
    "\n",
    "# 2. Create a cursor\n",
    "cur = conn.cursor()\n",
    "\n",
    "# 3. Write CREATE TABLE statement\n",
    "cur.execute(\"\"\"\n",
    "CREATE TABLE IF NOT EXISTS raw_ad_events (\n",
    "    event_id TEXT PRIMARY KEY,\n",
    "    ad_id INTEGER,\n",
    "    user_id TEXT,\n",
    "    timestamp TEXT,\n",
    "    day_of_week TEXT,\n",
    "    time_of_day TEXT,\n",
    "    event_type TEXT,\n",
    "    _ingested_at TEXT DEFAULT CURRENT_TIMESTAMP,\n",
    "    FOREIGN KEY (ad_id) REFERENCES ads(ad_id),\n",
    "    FOREIGN KEY (user_id) REFERENCES users(user_id)\n",
    ");\n",
    "\"\"\")\n",
    "\n",
    "\n",
    "# 4. Commit & close\n",
    "conn.commit()\n",
    "conn.close()\n",
    "\n",
    "print(\"Users table created successfully!\")\n"
   ]
  },
  {
   "cell_type": "code",
   "execution_count": 35,
   "id": "4fc7a1db",
   "metadata": {},
   "outputs": [
    {
     "name": "stdout",
     "output_type": "stream",
     "text": [
      "Number of duplicate user_ids: 100\n",
      "     user_id user_gender  user_age age_group         country  \\\n",
      "15     7332b      Female        20     18-24          France   \n",
      "72     2cff5      Female        16     16-17   United States   \n",
      "131    bf4c0        Male        36     35-44           Japan   \n",
      "263    ce3fc      Female        28     25-34   United States   \n",
      "316    94f30      Female        26     25-34           India   \n",
      "...      ...         ...       ...       ...             ...   \n",
      "9518   61037      Female        36     35-44  United Kingdom   \n",
      "9626   adc26      Female        27     25-34       Australia   \n",
      "9682   a74fe      Female        29     25-34   United States   \n",
      "9799   5bdf4        Male        38     35-44   United States   \n",
      "9850   0b8c2        Male        27     25-34   United States   \n",
      "\n",
      "               location                    interests  \n",
      "15      East Sierrafort      news, lifestyle, travel  \n",
      "72    East Jessicamouth  travel, fitness, technology  \n",
      "131    Port Caitlinland   fitness, lifestyle, gaming  \n",
      "263          West Jason                       health  \n",
      "316          Younghaven       photography, lifestyle  \n",
      "...                 ...                          ...  \n",
      "9518   Port Stevenville               gaming, health  \n",
      "9626        Watsonburgh                 gaming, news  \n",
      "9682        Mendozaview  fitness, lifestyle, finance  \n",
      "9799          Nancyport                 news, sports  \n",
      "9850         Harrisland           technology, sports  \n",
      "\n",
      "[100 rows x 7 columns]\n"
     ]
    }
   ],
   "source": [
    "import pandas as pd\n",
    "\n",
    "# Load CSV\n",
    "df_users = pd.read_csv(\"users.csv\")\n",
    "\n",
    "# Check for duplicates in 'user_id'\n",
    "duplicate_user_ids = df_users[df_users.duplicated(subset='user_id', keep=False)]\n",
    "\n",
    "# Show number of duplicates\n",
    "print(\"Number of duplicate user_ids:\", duplicate_user_ids.shape[0])\n",
    "\n",
    "# Display duplicate rows\n",
    "print(duplicate_user_ids)\n",
    "\n"
   ]
  },
  {
   "cell_type": "code",
   "execution_count": 36,
   "id": "b47f4c1e",
   "metadata": {},
   "outputs": [
    {
     "name": "stdout",
     "output_type": "stream",
     "text": [
      "Number of duplicate rows: 0\n",
      "Empty DataFrame\n",
      "Columns: [user_id, user_gender, user_age, age_group, country, location, interests]\n",
      "Index: []\n"
     ]
    }
   ],
   "source": [
    "\n",
    "# Find duplicate rows\n",
    "duplicate_rows = df_users[df_users.duplicated(keep=False)]\n",
    "\n",
    "# Show number of duplicate rows\n",
    "print(\"Number of duplicate rows:\", duplicate_rows.shape[0])\n",
    "\n",
    "# Display duplicate rows\n",
    "print(duplicate_rows)\n"
   ]
  },
  {
   "cell_type": "code",
   "execution_count": null,
   "id": "a6c54928",
   "metadata": {},
   "outputs": [],
   "source": [
    "import pandas as pd\n",
    "df = pd.read_csv(\"users.csv\")\n",
    "\n",
    "# drop duplicate user_ids\n",
    "df = df.drop_duplicates(subset=\"user_id\")\n",
    "\n",
    "import sqlite3\n",
    "conn = sqlite3.connect(\"Digital_Marketing.sqlite\")\n",
    "\n",
    "df.to_sql(\"raw_users\", conn, if_exists=\"append\", index=False)\n",
    "conn.close()\n"
   ]
  },
  {
   "cell_type": "code",
   "execution_count": 38,
   "id": "a2a8f564",
   "metadata": {},
   "outputs": [],
   "source": [
    "import pandas as pd\n",
    "df = pd.read_csv(\"campaigns.csv\")\n",
    "\n",
    "# drop duplicate user_ids\n",
    "# df = df.drop_duplicates(subset=\"user_id\")\n",
    "\n",
    "import sqlite3\n",
    "conn = sqlite3.connect(\"Digital_Marketing.sqlite\")\n",
    "\n",
    "df.to_sql(\"raw_campaigns\", conn, if_exists=\"append\", index=False)\n",
    "conn.close()\n"
   ]
  },
  {
   "cell_type": "code",
   "execution_count": 39,
   "id": "50c75ae6",
   "metadata": {},
   "outputs": [],
   "source": [
    "import pandas as pd\n",
    "df = pd.read_csv(\"ads.csv\")\n",
    "\n",
    "# drop duplicate user_ids\n",
    "# df = df.drop_duplicates(subset=\"user_id\")\n",
    "\n",
    "import sqlite3\n",
    "conn = sqlite3.connect(\"Digital_Marketing.sqlite\")\n",
    "\n",
    "df.to_sql(\"raw_ads\", conn, if_exists=\"append\", index=False)\n",
    "conn.close()"
   ]
  },
  {
   "cell_type": "code",
   "execution_count": 40,
   "id": "42c49c54",
   "metadata": {},
   "outputs": [],
   "source": [
    "import pandas as pd\n",
    "df = pd.read_csv(\"ad_events.csv\")\n",
    "\n",
    "# drop duplicate user_ids\n",
    "# df = df.drop_duplicates(subset=\"user_id\")\n",
    "\n",
    "import sqlite3\n",
    "conn = sqlite3.connect(\"Digital_Marketing.sqlite\")\n",
    "\n",
    "df.to_sql(\"raw_ad_events\", conn, if_exists=\"append\", index=False)\n",
    "conn.close()"
   ]
  },
  {
   "cell_type": "code",
   "execution_count": 44,
   "id": "a890bccc",
   "metadata": {},
   "outputs": [
    {
     "name": "stdout",
     "output_type": "stream",
     "text": [
      "  user_id user_gender  user_age age_group         country        location  \\\n",
      "0   a2474      Female        24     18-24  United Kingdom  New Mariomouth   \n",
      "1   a2474      Female        24     18-24  United Kingdom  New Mariomouth   \n",
      "2   141e5        Male        21     18-24         Germany     Danielsfort   \n",
      "3   141e5        Male        21     18-24         Germany     Danielsfort   \n",
      "4   141e5        Male        21     18-24         Germany     Danielsfort   \n",
      "\n",
      "   interests  \n",
      "0    fitness  \n",
      "1     health  \n",
      "2       food  \n",
      "3    fitness  \n",
      "4  lifestyle  \n"
     ]
    }
   ],
   "source": [
    "#Splitting interests into multiple rows\n",
    "\n",
    "import pandas as pd\n",
    "\n",
    "# Load users\n",
    "df = pd.read_csv(\"users.csv\")\n",
    "\n",
    "# Split interests into lists\n",
    "df['interests'] = df['interests'].str.split(', ')\n",
    "\n",
    "# Explode into multiple rows\n",
    "df_exploded = df.explode('interests')\n",
    "\n",
    "# Reset index\n",
    "df_exploded = df_exploded.reset_index(drop=True)\n",
    "\n",
    "# Save to CSV\n",
    "df_exploded.to_csv(\"users_interests.csv\", index=False)\n",
    "\n",
    "print(df_exploded.head())\n",
    "\n",
    "\n"
   ]
  },
  {
   "cell_type": "code",
   "execution_count": 45,
   "id": "5aeb1055",
   "metadata": {},
   "outputs": [
    {
     "name": "stdout",
     "output_type": "stream",
     "text": [
      "   ad_id  campaign_id ad_platform   ad_type target_gender target_age_group  \\\n",
      "0      1           28    Facebook     Video        Female            35-44   \n",
      "1      1           28    Facebook     Video        Female            35-44   \n",
      "2      2           33    Facebook   Stories           All            25-34   \n",
      "3      2           33    Facebook   Stories           All            25-34   \n",
      "4      3           20   Instagram  Carousel           All            25-34   \n",
      "\n",
      "  target_interests  \n",
      "0              art  \n",
      "1       technology  \n",
      "2           travel  \n",
      "3      photography  \n",
      "4       technology  \n"
     ]
    }
   ],
   "source": [
    "#Splitting interests into multiple rows\n",
    "\n",
    "import pandas as pd\n",
    "\n",
    "# Load users\n",
    "df = pd.read_csv(\"ads.csv\")\n",
    "\n",
    "# Split interests into lists\n",
    "df['target_interests'] = df['target_interests'].str.split(', ')\n",
    "\n",
    "# Explode into multiple rows\n",
    "df_exploded = df.explode('target_interests')\n",
    "\n",
    "# Reset index\n",
    "df_exploded = df_exploded.reset_index(drop=True)\n",
    "\n",
    "# Save to CSV\n",
    "df_exploded.to_csv(\"target_interests.csv\", index=False)\n",
    "\n",
    "print(df_exploded.head())"
   ]
  },
  {
   "cell_type": "code",
   "execution_count": 3,
   "id": "7f106545",
   "metadata": {},
   "outputs": [
    {
     "name": "stdout",
     "output_type": "stream",
     "text": [
      "Users table created successfully!\n"
     ]
    }
   ],
   "source": [
    "# 1. Connect to database (creates file if it doesn’t exist)\n",
    "import sqlite3\n",
    "\n",
    "conn = sqlite3.connect(\"Digital_Marketing.sqlite\")\n",
    "\n",
    "# 2. Create a cursor\n",
    "cur = conn.cursor()\n",
    "\n",
    "# 3. Write CREATE TABLE statement\n",
    "cur.execute(\"\"\"\n",
    "CREATE TABLE dim_users AS\n",
    "SELECT\n",
    "    user_id,\n",
    "    TRIM(LOWER(user_gender)) AS user_gender,\n",
    "    user_age,\n",
    "    age_group,\n",
    "    TRIM(country) AS country,\n",
    "    TRIM(location) AS location,\n",
    "    LOWER(interests) AS interests\n",
    "FROM raw_users;\n",
    "\"\"\")\n",
    "\n",
    "\n",
    "# 4. Commit & close\n",
    "conn.commit()\n",
    "conn.close()\n",
    "\n",
    "print(\"Users table created successfully!\")\n"
   ]
  },
  {
   "cell_type": "code",
   "execution_count": 4,
   "id": "a9bc78ee",
   "metadata": {},
   "outputs": [
    {
     "name": "stdout",
     "output_type": "stream",
     "text": [
      "Users table created successfully!\n"
     ]
    }
   ],
   "source": [
    "# 1. Connect to database (creates file if it doesn’t exist)\n",
    "import sqlite3\n",
    "\n",
    "conn = sqlite3.connect(\"Digital_Marketing.sqlite\")\n",
    "\n",
    "# 2. Create a cursor\n",
    "cur = conn.cursor()\n",
    "\n",
    "# 3. Write CREATE TABLE statement\n",
    "cur.execute(\"\"\"\n",
    "CREATE TABLE dim_campaigns AS\n",
    "SELECT\n",
    "    campaign_id,\n",
    "    name,\n",
    "    DATE(start_date) AS start_date,\n",
    "    DATE(end_date)   AS end_date,\n",
    "    CAST(duration_days AS INTEGER) AS duration_days,\n",
    "    CAST(total_budget AS REAL) AS total_budget\n",
    "FROM raw_campaigns;\n",
    "\"\"\")\n",
    "\n",
    "\n",
    "# 4. Commit & close\n",
    "conn.commit()\n",
    "conn.close()\n",
    "\n",
    "print(\"Users table created successfully!\")"
   ]
  },
  {
   "cell_type": "code",
   "execution_count": 5,
   "id": "04e169c5",
   "metadata": {},
   "outputs": [
    {
     "name": "stdout",
     "output_type": "stream",
     "text": [
      "Users table created successfully!\n"
     ]
    }
   ],
   "source": [
    "# 1. Connect to database (creates file if it doesn’t exist)\n",
    "import sqlite3\n",
    "\n",
    "conn = sqlite3.connect(\"Digital_Marketing.sqlite\")\n",
    "\n",
    "# 2. Create a cursor\n",
    "cur = conn.cursor()\n",
    "\n",
    "# 3. Write CREATE TABLE statement\n",
    "cur.execute(\"\"\"\n",
    "CREATE TABLE dim_ads AS\n",
    "SELECT\n",
    "    ad_id,\n",
    "    campaign_id,\n",
    "    TRIM(ad_platform) AS ad_platform,\n",
    "    TRIM(ad_type) AS ad_type,\n",
    "    LOWER(target_gender) AS target_gender,\n",
    "    target_age_group,\n",
    "    LOWER(target_interests) AS target_interests\n",
    "FROM raw_ads;\n",
    "\"\"\")\n",
    "\n",
    "\n",
    "# 4. Commit & close\n",
    "conn.commit()\n",
    "conn.close()\n",
    "\n",
    "print(\"Users table created successfully!\")"
   ]
  },
  {
   "cell_type": "code",
   "execution_count": 6,
   "id": "cbc07ad4",
   "metadata": {},
   "outputs": [
    {
     "name": "stdout",
     "output_type": "stream",
     "text": [
      "Users table created successfully!\n"
     ]
    }
   ],
   "source": [
    "# 1. Connect to database (creates file if it doesn’t exist)\n",
    "import sqlite3\n",
    "\n",
    "conn = sqlite3.connect(\"Digital_Marketing.sqlite\")\n",
    "\n",
    "# 2. Create a cursor\n",
    "cur = conn.cursor()\n",
    "\n",
    "# 3. Write CREATE TABLE statement\n",
    "cur.execute(\"\"\"\n",
    "CREATE TABLE fact_ad_events AS\n",
    "SELECT\n",
    "    event_id,\n",
    "    ad_id,\n",
    "    user_id,\n",
    "    DATETIME(timestamp) AS event_time,\n",
    "    STRFTIME('%w', timestamp) AS day_of_week,  -- 0=Sunday … 6=Saturday\n",
    "    STRFTIME('%H', timestamp) AS time_of_day,  -- 00-23\n",
    "    event_type,\n",
    "    _ingested_at\n",
    "FROM raw_ad_events;\n",
    "\"\"\")\n",
    "\n",
    "# 4. Commit & close\n",
    "conn.commit()\n",
    "conn.close()\n",
    "\n",
    "print(\"Users table created successfully!\")\n"
   ]
  },
  {
   "cell_type": "code",
   "execution_count": null,
   "id": "6d34594e",
   "metadata": {},
   "outputs": [
    {
     "name": "stdout",
     "output_type": "stream",
     "text": [
      "Table View created successfully!\n"
     ]
    }
   ],
   "source": [
    "# 1. Connect to database (creates file if it doesn’t exist)\n",
    "import sqlite3\n",
    "\n",
    "conn = sqlite3.connect(\"Digital_Marketing.sqlite\")\n",
    "\n",
    "# 2. Create a cursor\n",
    "cur = conn.cursor()\n",
    "\n",
    "# 3. ad_event_details view\n",
    "cur.execute(\"\"\"\n",
    "CREATE VIEW vw_ad_event_details AS\n",
    "SELECT\n",
    "    e.event_id,\n",
    "    e.user_id,\n",
    "    e.event_time,\n",
    "    e.day_of_week,\n",
    "    e.time_of_day,\n",
    "    e.event_type,\n",
    "    a.ad_id,\n",
    "    a.campaign_id,\n",
    "    a.ad_platform,\n",
    "    a.ad_type,\n",
    "    a.target_gender,\n",
    "    a.target_age_group,\n",
    "    c.name AS campaign_name,\n",
    "    c.start_date,\n",
    "    c.end_date,\n",
    "    c.total_budget,\n",
    "    u.user_gender,\n",
    "    u.user_age,\n",
    "    u.age_group,\n",
    "    u.country,\n",
    "    u.location,\n",
    "    u.interests\n",
    "FROM fact_ad_events e\n",
    "JOIN dim_ads a ON e.ad_id = a.ad_id\n",
    "JOIN dim_campaigns c ON a.campaign_id = c.campaign_id\n",
    "JOIN dim_users u ON e.user_id = u.user_id;\n",
    "\n",
    "\"\"\")\n",
    "\n",
    "# 4. Commit & close\n",
    "conn.commit()\n",
    "conn.close()\n",
    "\n",
    "print(\"Table View created successfully!\")"
   ]
  },
  {
   "cell_type": "code",
   "execution_count": 8,
   "id": "84caead4",
   "metadata": {},
   "outputs": [
    {
     "name": "stdout",
     "output_type": "stream",
     "text": [
      "Users table created successfully!\n"
     ]
    }
   ],
   "source": [
    "# 1. Connect to database (creates file if it doesn’t exist)\n",
    "import sqlite3\n",
    "\n",
    "conn = sqlite3.connect(\"Digital_Marketing.sqlite\")\n",
    "\n",
    "# 2. Create a cursor\n",
    "cur = conn.cursor()\n",
    "\n",
    "# 3. Impressions View\n",
    "cur.execute(\"\"\"\n",
    "CREATE VIEW metric_impressions AS\n",
    "SELECT COUNT(*) AS total_impressions FROM fact_ad_events WHERE event_type='Impression';\n",
    "\"\"\")\n",
    "\n",
    "# 4. Commit & close\n",
    "conn.commit()\n",
    "conn.close()\n",
    "\n",
    "print(\"Users table created successfully!\")\n"
   ]
  },
  {
   "cell_type": "code",
   "execution_count": 9,
   "id": "be86603b",
   "metadata": {},
   "outputs": [
    {
     "name": "stdout",
     "output_type": "stream",
     "text": [
      "Users table created successfully!\n"
     ]
    }
   ],
   "source": [
    "# 1. Connect to database (creates file if it doesn’t exist)\n",
    "import sqlite3\n",
    "\n",
    "conn = sqlite3.connect(\"Digital_Marketing.sqlite\")\n",
    "\n",
    "# 2. Create a cursor\n",
    "cur = conn.cursor()\n",
    "\n",
    "# 3. Clicks View\n",
    "cur.execute(\"\"\"\n",
    "CREATE VIEW metric_clicks AS\n",
    "SELECT COUNT(*) AS total_clicks FROM fact_ad_events WHERE event_type='Click';\n",
    "\"\"\")\n",
    "\n",
    "# 4. Commit & close\n",
    "conn.commit()\n",
    "conn.close()\n",
    "\n",
    "print(\"Users table created successfully!\")"
   ]
  },
  {
   "cell_type": "code",
   "execution_count": 10,
   "id": "c2157c66",
   "metadata": {},
   "outputs": [
    {
     "name": "stdout",
     "output_type": "stream",
     "text": [
      "Users table created successfully!\n"
     ]
    }
   ],
   "source": [
    "# 1. Connect to database (creates file if it doesn’t exist)\n",
    "import sqlite3\n",
    "\n",
    "conn = sqlite3.connect(\"Digital_Marketing.sqlite\")\n",
    "\n",
    "# 2. Create a cursor\n",
    "cur = conn.cursor()\n",
    "\n",
    "# 3. Distinct Users View\n",
    "cur.execute(\"\"\"\n",
    "CREATE VIEW metric_users AS\n",
    "SELECT COUNT(DISTINCT user_id) AS active_users FROM fact_ad_events;\n",
    "\"\"\")\n",
    "\n",
    "# 4. Commit & close\n",
    "conn.commit()\n",
    "conn.close()\n",
    "\n",
    "print(\"Users table created successfully!\")"
   ]
  },
  {
   "cell_type": "code",
   "execution_count": 11,
   "id": "d64ebd47",
   "metadata": {},
   "outputs": [
    {
     "name": "stdout",
     "output_type": "stream",
     "text": [
      "Users table created successfully!\n"
     ]
    }
   ],
   "source": [
    "# 1. Connect to database (creates file if it doesn’t exist)\n",
    "import sqlite3\n",
    "\n",
    "conn = sqlite3.connect(\"Digital_Marketing.sqlite\")\n",
    "\n",
    "# 2. Create a cursor\n",
    "cur = conn.cursor()\n",
    "\n",
    "# 3. Events by Type View\n",
    "cur.execute(\"\"\"\n",
    "CREATE VIEW metric_events_by_type AS\n",
    "SELECT event_type, COUNT(*) AS cnt\n",
    "FROM fact_ad_events\n",
    "GROUP BY event_type;\n",
    "\"\"\")\n",
    "\n",
    "# 4. Commit & close\n",
    "conn.commit()\n",
    "conn.close()\n",
    "\n",
    "print(\"Users table created successfully!\")"
   ]
  },
  {
   "cell_type": "markdown",
   "id": "7b4785da",
   "metadata": {},
   "source": [
    "Revenue Allocation Models"
   ]
  },
  {
   "cell_type": "code",
   "execution_count": null,
   "id": "d8fc0e90",
   "metadata": {},
   "outputs": [
    {
     "name": "stdout",
     "output_type": "stream",
     "text": [
      "Table view created successfully!\n"
     ]
    }
   ],
   "source": [
    "# CPM (Cost per 1,000 Impressions)\n",
    "\n",
    "# 1. Connect to database (creates file if it doesn’t exist)\n",
    "import sqlite3\n",
    "\n",
    "conn = sqlite3.connect(\"Digital_Marketing.sqlite\")\n",
    "\n",
    "# 2. Create a cursor\n",
    "cur = conn.cursor()\n",
    "\n",
    "# 3. Total Impressions per Campaign\n",
    "\n",
    "cur.execute(\"\"\"\n",
    "CREATE VIEW campaign_impressions AS\n",
    "SELECT\n",
    "    a.campaign_id,\n",
    "    COUNT(*) AS total_impressions\n",
    "FROM fact_ad_events e\n",
    "JOIN dim_ads a ON e.ad_id = a.ad_id\n",
    "WHERE e.event_type='Impression'\n",
    "GROUP BY a.campaign_id;\n",
    "\"\"\")\n",
    "\n",
    "# 4. Commit & close\n",
    "conn.commit()\n",
    "conn.close()\n",
    "\n",
    "print(\"Table view created successfully!\")"
   ]
  },
  {
   "cell_type": "code",
   "execution_count": 13,
   "id": "6270ef42",
   "metadata": {},
   "outputs": [
    {
     "name": "stdout",
     "output_type": "stream",
     "text": [
      "Table view created successfully!\n"
     ]
    }
   ],
   "source": [
    "# 1. Connect to database (creates file if it doesn’t exist)\n",
    "import sqlite3\n",
    "\n",
    "conn = sqlite3.connect(\"Digital_Marketing.sqlite\")\n",
    "\n",
    "# 2. Create a cursor\n",
    "cur = conn.cursor()\n",
    "\n",
    "# 3. Revenue per Impression\n",
    "\n",
    "cur.execute(\"\"\"\n",
    "CREATE VIEW revenue_per_impression AS\n",
    "SELECT\n",
    "    c.campaign_id,\n",
    "    c.total_budget / NULLIF(ci.total_impressions,0) AS rev_per_impression\n",
    "FROM dim_campaigns c\n",
    "LEFT JOIN campaign_impressions ci ON c.campaign_id=ci.campaign_id;\n",
    "\"\"\")\n",
    "\n",
    "# 4. Commit & close\n",
    "conn.commit()\n",
    "conn.close()\n",
    "\n",
    "print(\"Table view created successfully!\")"
   ]
  },
  {
   "cell_type": "code",
   "execution_count": 14,
   "id": "d540cc83",
   "metadata": {},
   "outputs": [
    {
     "name": "stdout",
     "output_type": "stream",
     "text": [
      "Table view created successfully!\n"
     ]
    }
   ],
   "source": [
    "# CPC (Cost per Click)\n",
    "\n",
    "# 1. Connect to database (creates file if it doesn’t exist)\n",
    "import sqlite3\n",
    "\n",
    "conn = sqlite3.connect(\"Digital_Marketing.sqlite\")\n",
    "\n",
    "# 2. Create a cursor\n",
    "cur = conn.cursor()\n",
    "\n",
    "# 3. Total Clicks per Campaign\n",
    "\n",
    "cur.execute(\"\"\"\n",
    "CREATE VIEW campaign_clicks AS\n",
    "SELECT\n",
    "    a.campaign_id,\n",
    "    COUNT(*) AS total_clicks\n",
    "FROM fact_ad_events e\n",
    "JOIN dim_ads a ON e.ad_id = a.ad_id\n",
    "WHERE e.event_type='Click'\n",
    "GROUP BY a.campaign_id;\n",
    "\"\"\")\n",
    "\n",
    "# 4. Commit & close\n",
    "conn.commit()\n",
    "conn.close()\n",
    "\n",
    "print(\"Table view created successfully!\")"
   ]
  },
  {
   "cell_type": "code",
   "execution_count": 15,
   "id": "d344a773",
   "metadata": {},
   "outputs": [
    {
     "name": "stdout",
     "output_type": "stream",
     "text": [
      "Table view created successfully!\n"
     ]
    }
   ],
   "source": [
    "# 1. Connect to database (creates file if it doesn’t exist)\n",
    "import sqlite3\n",
    "\n",
    "conn = sqlite3.connect(\"Digital_Marketing.sqlite\")\n",
    "\n",
    "# 2. Create a cursor\n",
    "cur = conn.cursor()\n",
    "\n",
    "# 3. Revenue per Campaign\n",
    "\n",
    "cur.execute(\"\"\"\n",
    "CREATE VIEW revenue_per_click AS\n",
    "SELECT\n",
    "    c.campaign_id,\n",
    "    c.total_budget / NULLIF(cc.total_clicks,0) AS rev_per_click\n",
    "FROM dim_campaigns c\n",
    "LEFT JOIN campaign_clicks cc ON c.campaign_id=cc.campaign_id;\n",
    "\"\"\")\n",
    "\n",
    "# 4. Commit & close\n",
    "conn.commit()\n",
    "conn.close()\n",
    "\n",
    "print(\"Table view created successfully!\")"
   ]
  },
  {
   "cell_type": "markdown",
   "id": "60a28b3f",
   "metadata": {},
   "source": [
    "Hybrid Revenue Allocation (70% budget on Clicks, 30% on Impressions)"
   ]
  },
  {
   "cell_type": "code",
   "execution_count": 16,
   "id": "0ed554bd",
   "metadata": {},
   "outputs": [
    {
     "name": "stdout",
     "output_type": "stream",
     "text": [
      "Table view created successfully!\n"
     ]
    }
   ],
   "source": [
    "# 1. Connect to database (creates file if it doesn’t exist)\n",
    "import sqlite3\n",
    "\n",
    "conn = sqlite3.connect(\"Digital_Marketing.sqlite\")\n",
    "\n",
    "# 2. Create a cursor\n",
    "cur = conn.cursor()\n",
    "\n",
    "# 3. Hybrid Revenue Allocation (70% budget on Clicks, 30% on Impressions)\n",
    "\n",
    "cur.execute(\"\"\"\n",
    "CREATE VIEW hybrid_revenue AS\n",
    "SELECT\n",
    "    c.campaign_id,\n",
    "    (0.3 * c.total_budget / NULLIF(ci.total_impressions,0)) AS rev_per_impression,\n",
    "    (0.7 * c.total_budget / NULLIF(cc.total_clicks,0)) AS rev_per_click\n",
    "FROM dim_campaigns c\n",
    "LEFT JOIN campaign_impressions ci ON c.campaign_id = ci.campaign_id\n",
    "LEFT JOIN campaign_clicks cc ON c.campaign_id = cc.campaign_id;\n",
    "\n",
    "\"\"\")\n",
    "\n",
    "# 4. Commit & close\n",
    "conn.commit()\n",
    "conn.close()\n",
    "\n",
    "print(\"Table view created successfully!\")"
   ]
  },
  {
   "cell_type": "markdown",
   "id": "7c1732ce",
   "metadata": {},
   "source": [
    "Assigning Revenue at Event Level"
   ]
  },
  {
   "cell_type": "code",
   "execution_count": 17,
   "id": "2cbcb584",
   "metadata": {},
   "outputs": [
    {
     "name": "stdout",
     "output_type": "stream",
     "text": [
      "Table view created successfully!\n"
     ]
    }
   ],
   "source": [
    "# 1. Connect to database (creates file if it doesn’t exist)\n",
    "import sqlite3\n",
    "\n",
    "conn = sqlite3.connect(\"Digital_Marketing.sqlite\")\n",
    "\n",
    "# 2. Create a cursor\n",
    "cur = conn.cursor()\n",
    "\n",
    "# 3. Assigning Revenue at Event Level\n",
    "\n",
    "cur.execute(\"\"\"\n",
    "CREATE VIEW event_revenue AS\n",
    "SELECT\n",
    "    e.event_id,\n",
    "    e.user_id,\n",
    "    e.event_type,\n",
    "    e.event_time,\n",
    "    e.ad_id,\n",
    "    a.campaign_id,\n",
    "    CASE \n",
    "        WHEN e.event_type='Impression' THEN h.rev_per_impression\n",
    "        WHEN e.event_type='Click' THEN h.rev_per_click\n",
    "        ELSE 0\n",
    "    END AS revenue\n",
    "FROM fact_ad_events e\n",
    "JOIN dim_ads a ON e.ad_id=a.ad_id\n",
    "JOIN hybrid_revenue h ON a.campaign_id=h.campaign_id;\n",
    "\"\"\")\n",
    "\n",
    "# 4. Commit & close\n",
    "conn.commit()\n",
    "conn.close()\n",
    "\n",
    "print(\"Table view created successfully!\")"
   ]
  },
  {
   "cell_type": "code",
   "execution_count": 18,
   "id": "994669e0",
   "metadata": {},
   "outputs": [
    {
     "name": "stdout",
     "output_type": "stream",
     "text": [
      "Table view created successfully!\n"
     ]
    }
   ],
   "source": [
    "# 1. Connect to database (creates file if it doesn’t exist)\n",
    "import sqlite3\n",
    "\n",
    "conn = sqlite3.connect(\"Digital_Marketing.sqlite\")\n",
    "\n",
    "# 2. Create a cursor\n",
    "cur = conn.cursor()\n",
    "\n",
    "# 3. Total Revenue\n",
    "\n",
    "cur.execute(\"\"\"\n",
    "CREATE VIEW metric_total_revenue AS\n",
    "SELECT SUM(revenue) AS total_revenue FROM event_revenue;\n",
    "\"\"\")\n",
    "\n",
    "# 4. Commit & close\n",
    "conn.commit()\n",
    "conn.close()\n",
    "\n",
    "print(\"Table view created successfully!\")"
   ]
  },
  {
   "cell_type": "code",
   "execution_count": 19,
   "id": "47f0c1d9",
   "metadata": {},
   "outputs": [
    {
     "name": "stdout",
     "output_type": "stream",
     "text": [
      "Table view created successfully!\n"
     ]
    }
   ],
   "source": [
    "# 1. Connect to database (creates file if it doesn’t exist)\n",
    "import sqlite3\n",
    "\n",
    "conn = sqlite3.connect(\"Digital_Marketing.sqlite\")\n",
    "\n",
    "# 2. Create a cursor\n",
    "cur = conn.cursor()\n",
    "\n",
    "# 3. Revenue by Campaign\n",
    "\n",
    "cur.execute(\"\"\"\n",
    "CREATE VIEW metric_revenue_by_campaign AS\n",
    "SELECT campaign_id, SUM(revenue) AS campaign_revenue\n",
    "FROM event_revenue\n",
    "GROUP BY campaign_id;\n",
    "\"\"\")\n",
    "\n",
    "# 4. Commit & close\n",
    "conn.commit()\n",
    "conn.close()\n",
    "\n",
    "print(\"Table view created successfully!\")"
   ]
  },
  {
   "cell_type": "code",
   "execution_count": 20,
   "id": "47439fc4",
   "metadata": {},
   "outputs": [
    {
     "name": "stdout",
     "output_type": "stream",
     "text": [
      "Table view created successfully!\n"
     ]
    }
   ],
   "source": [
    "# 1. Connect to database (creates file if it doesn’t exist)\n",
    "import sqlite3\n",
    "\n",
    "conn = sqlite3.connect(\"Digital_Marketing.sqlite\")\n",
    "\n",
    "# 2. Create a cursor\n",
    "cur = conn.cursor()\n",
    "\n",
    "# 3. Revenue by User\n",
    "\n",
    "cur.execute(\"\"\"\n",
    "CREATE VIEW metric_revenue_by_user AS\n",
    "SELECT user_id, SUM(revenue) AS user_revenue\n",
    "FROM event_revenue\n",
    "GROUP BY user_id;\n",
    "\"\"\")\n",
    "\n",
    "# 4. Commit & close\n",
    "conn.commit()\n",
    "conn.close()\n",
    "\n",
    "print(\"Table view created successfully!\")"
   ]
  },
  {
   "cell_type": "code",
   "execution_count": 21,
   "id": "7a2d9fe2",
   "metadata": {},
   "outputs": [
    {
     "name": "stdout",
     "output_type": "stream",
     "text": [
      "Table view created successfully!\n"
     ]
    }
   ],
   "source": [
    "# 1. Connect to database (creates file if it doesn’t exist)\n",
    "import sqlite3\n",
    "\n",
    "conn = sqlite3.connect(\"Digital_Marketing.sqlite\")\n",
    "\n",
    "# 2. Create a cursor\n",
    "cur = conn.cursor()\n",
    "\n",
    "# 3. Revenue by Platform\n",
    "\n",
    "cur.execute(\"\"\"\n",
    "CREATE VIEW metric_revenue_by_platform AS\n",
    "SELECT a.ad_platform, SUM(e.revenue) AS platform_revenue\n",
    "FROM event_revenue e\n",
    "JOIN dim_ads a ON e.ad_id=a.ad_id\n",
    "GROUP BY a.ad_platform;\n",
    "\"\"\")\n",
    "\n",
    "# 4. Commit & close\n",
    "conn.commit()\n",
    "conn.close()\n",
    "\n",
    "print(\"Table view created successfully!\")"
   ]
  }
 ],
 "metadata": {
  "kernelspec": {
   "display_name": "Python 3",
   "language": "python",
   "name": "python3"
  },
  "language_info": {
   "codemirror_mode": {
    "name": "ipython",
    "version": 3
   },
   "file_extension": ".py",
   "mimetype": "text/x-python",
   "name": "python",
   "nbconvert_exporter": "python",
   "pygments_lexer": "ipython3",
   "version": "3.13.5"
  }
 },
 "nbformat": 4,
 "nbformat_minor": 5
}
